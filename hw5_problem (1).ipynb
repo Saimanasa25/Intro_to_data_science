{
 "cells": [
  {
   "cell_type": "markdown",
   "id": "a1aa7201",
   "metadata": {},
   "source": [
    "# Homework 5\n",
    "Run the following cell to load `heart_processed.csv`, which has log-predictors from the [Heart Failure Clinical Records Dataset](https://archive.ics.uci.edu/ml/datasets/Heart%2Bfailure%2Bclinical%2Brecords) for predicting `DEATH_EVENT`."
   ]
  },
  {
   "cell_type": "code",
   "execution_count": 1,
   "id": "9f648bc7",
   "metadata": {},
   "outputs": [],
   "source": [
    "import pandas as pd\n",
    "import numpy as np\n",
    "\n",
    "dataset = pd.read_csv(\"heart_processed.csv\")\n",
    "X = dataset.drop(\"DEATH_EVENT\", axis=1)\n",
    "y = dataset[\"DEATH_EVENT\"]\n",
    "X = X.iloc[:,1:]"
   ]
  },
  {
   "cell_type": "markdown",
   "id": "ca4be0c2",
   "metadata": {},
   "source": [
    "Write a naive Bayes classifier with priors inferred from the dataset, and class-conditional densities inferred using `scipy.stats.gaussian_kde` with default bandwidth. Print the accuracy on the dataset."
   ]
  },
  {
   "cell_type": "code",
   "execution_count": 2,
   "id": "26d11e1d",
   "metadata": {},
   "outputs": [
    {
     "name": "stdout",
     "output_type": "stream",
     "text": [
      "There are 2 classes: [0 1]\n"
     ]
    }
   ],
   "source": [
    "classes = np.unique(y)\n",
    "print ('There are %d classes:' % len(classes), classes)"
   ]
  },
  {
   "cell_type": "code",
   "execution_count": 3,
   "id": "9883ecec",
   "metadata": {},
   "outputs": [],
   "source": [
    "from scipy import stats\n",
    "param = dict()  # we save them in this dictionary\n",
    "data = X.values.copy()\n",
    "for k in classes:\n",
    "    members = (y == k) # boolean array\n",
    "    num = members.sum()    # True:1, False:0\n",
    "    prior = num / y.size\n",
    "    X_= data[members,:]\n",
    "    feature_kde=[]\n",
    "    for feature_i in range(data.shape[1]):\n",
    "        xx=X_[:,feature_i]\n",
    "        feature_kde_ = stats.gaussian_kde(xx)\n",
    "        feature_kde.append(feature_kde_)\n",
    "    param[k]=[num,prior,feature_kde]\n"
   ]
  },
  {
   "cell_type": "code",
   "execution_count": 4,
   "id": "5e2470be",
   "metadata": {},
   "outputs": [
    {
     "name": "stdout",
     "output_type": "stream",
     "text": [
      "Accuracy=  0.7892976588628763\n"
     ]
    }
   ],
   "source": [
    "# init predicted values\n",
    "k_pred = -1 * np.ones(y.size)\n",
    "\n",
    "# evaluate posterior for each point and find maximum\n",
    "for i in range(y.size):\n",
    "    pmax, kmax = -1, None   # initialize to nonsense values\n",
    "    for k in classes:\n",
    "        num, prior, kde = param[k]\n",
    "        data = X.values.copy()[i,:]\n",
    "        \n",
    "        X_ = 1\n",
    "        for l in range(len(kde)):\n",
    "            feature_kde = kde[l]\n",
    "            X_ = X_ * feature_kde.evaluate(data[l])\n",
    "        p = prior * X_\n",
    "        if p > pmax:\n",
    "            pmax = p\n",
    "            kmax = k\n",
    "    k_pred[i] = kmax\n",
    "\n",
    "print(\"Accuracy= \", np.sum(k_pred == y) / len(y))"
   ]
  },
  {
   "cell_type": "code",
   "execution_count": null,
   "id": "a992be39",
   "metadata": {},
   "outputs": [],
   "source": []
  }
 ],
 "metadata": {
  "kernelspec": {
   "display_name": "Python 3 (ipykernel)",
   "language": "python",
   "name": "python3"
  },
  "language_info": {
   "codemirror_mode": {
    "name": "ipython",
    "version": 3
   },
   "file_extension": ".py",
   "mimetype": "text/x-python",
   "name": "python",
   "nbconvert_exporter": "python",
   "pygments_lexer": "ipython3",
   "version": "3.9.12"
  }
 },
 "nbformat": 4,
 "nbformat_minor": 5
}
