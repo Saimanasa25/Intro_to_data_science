{
 "cells": [
  {
   "cell_type": "markdown",
   "id": "944ab4d2",
   "metadata": {},
   "source": [
    "`pulsar.csv` ([source](https://archive.ics.uci.edu/ml/datasets/HTRU2)) contains statistics from two types of signal from pulsar candidates: integrated profile and dispersion-measure signal-to-noise curve."
   ]
  },
  {
   "cell_type": "code",
   "execution_count": 1,
   "id": "382bf811",
   "metadata": {
    "scrolled": false
   },
   "outputs": [
    {
     "data": {
      "text/html": [
       "<div>\n",
       "<style scoped>\n",
       "    .dataframe tbody tr th:only-of-type {\n",
       "        vertical-align: middle;\n",
       "    }\n",
       "\n",
       "    .dataframe tbody tr th {\n",
       "        vertical-align: top;\n",
       "    }\n",
       "\n",
       "    .dataframe thead th {\n",
       "        text-align: right;\n",
       "    }\n",
       "</style>\n",
       "<table border=\"1\" class=\"dataframe\">\n",
       "  <thead>\n",
       "    <tr style=\"text-align: right;\">\n",
       "      <th></th>\n",
       "      <th>IP_Mean</th>\n",
       "      <th>IP_SD</th>\n",
       "      <th>IP_Kurt</th>\n",
       "      <th>IP_Skew</th>\n",
       "      <th>DMSNR_Mean</th>\n",
       "      <th>DMSNR_SD</th>\n",
       "      <th>DMSNR_Kurt</th>\n",
       "      <th>DMSNR_Skew</th>\n",
       "      <th>Pulsar</th>\n",
       "    </tr>\n",
       "  </thead>\n",
       "  <tbody>\n",
       "    <tr>\n",
       "      <th>0</th>\n",
       "      <td>140.562500</td>\n",
       "      <td>55.683782</td>\n",
       "      <td>-0.234571</td>\n",
       "      <td>-0.699648</td>\n",
       "      <td>3.199833</td>\n",
       "      <td>19.110426</td>\n",
       "      <td>7.975532</td>\n",
       "      <td>74.242225</td>\n",
       "      <td>0</td>\n",
       "    </tr>\n",
       "    <tr>\n",
       "      <th>1</th>\n",
       "      <td>102.507812</td>\n",
       "      <td>58.882430</td>\n",
       "      <td>0.465318</td>\n",
       "      <td>-0.515088</td>\n",
       "      <td>1.677258</td>\n",
       "      <td>14.860146</td>\n",
       "      <td>10.576487</td>\n",
       "      <td>127.393580</td>\n",
       "      <td>0</td>\n",
       "    </tr>\n",
       "    <tr>\n",
       "      <th>2</th>\n",
       "      <td>103.015625</td>\n",
       "      <td>39.341649</td>\n",
       "      <td>0.323328</td>\n",
       "      <td>1.051164</td>\n",
       "      <td>3.121237</td>\n",
       "      <td>21.744669</td>\n",
       "      <td>7.735822</td>\n",
       "      <td>63.171909</td>\n",
       "      <td>0</td>\n",
       "    </tr>\n",
       "    <tr>\n",
       "      <th>3</th>\n",
       "      <td>136.750000</td>\n",
       "      <td>57.178449</td>\n",
       "      <td>-0.068415</td>\n",
       "      <td>-0.636238</td>\n",
       "      <td>3.642977</td>\n",
       "      <td>20.959280</td>\n",
       "      <td>6.896499</td>\n",
       "      <td>53.593661</td>\n",
       "      <td>0</td>\n",
       "    </tr>\n",
       "    <tr>\n",
       "      <th>4</th>\n",
       "      <td>88.726562</td>\n",
       "      <td>40.672225</td>\n",
       "      <td>0.600866</td>\n",
       "      <td>1.123492</td>\n",
       "      <td>1.178930</td>\n",
       "      <td>11.468720</td>\n",
       "      <td>14.269573</td>\n",
       "      <td>252.567306</td>\n",
       "      <td>0</td>\n",
       "    </tr>\n",
       "    <tr>\n",
       "      <th>...</th>\n",
       "      <td>...</td>\n",
       "      <td>...</td>\n",
       "      <td>...</td>\n",
       "      <td>...</td>\n",
       "      <td>...</td>\n",
       "      <td>...</td>\n",
       "      <td>...</td>\n",
       "      <td>...</td>\n",
       "      <td>...</td>\n",
       "    </tr>\n",
       "    <tr>\n",
       "      <th>17893</th>\n",
       "      <td>136.429688</td>\n",
       "      <td>59.847421</td>\n",
       "      <td>-0.187846</td>\n",
       "      <td>-0.738123</td>\n",
       "      <td>1.296823</td>\n",
       "      <td>12.166062</td>\n",
       "      <td>15.450260</td>\n",
       "      <td>285.931022</td>\n",
       "      <td>0</td>\n",
       "    </tr>\n",
       "    <tr>\n",
       "      <th>17894</th>\n",
       "      <td>122.554688</td>\n",
       "      <td>49.485605</td>\n",
       "      <td>0.127978</td>\n",
       "      <td>0.323061</td>\n",
       "      <td>16.409699</td>\n",
       "      <td>44.626893</td>\n",
       "      <td>2.945244</td>\n",
       "      <td>8.297092</td>\n",
       "      <td>0</td>\n",
       "    </tr>\n",
       "    <tr>\n",
       "      <th>17895</th>\n",
       "      <td>119.335938</td>\n",
       "      <td>59.935939</td>\n",
       "      <td>0.159363</td>\n",
       "      <td>-0.743025</td>\n",
       "      <td>21.430602</td>\n",
       "      <td>58.872000</td>\n",
       "      <td>2.499517</td>\n",
       "      <td>4.595173</td>\n",
       "      <td>0</td>\n",
       "    </tr>\n",
       "    <tr>\n",
       "      <th>17896</th>\n",
       "      <td>114.507812</td>\n",
       "      <td>53.902400</td>\n",
       "      <td>0.201161</td>\n",
       "      <td>-0.024789</td>\n",
       "      <td>1.946488</td>\n",
       "      <td>13.381731</td>\n",
       "      <td>10.007967</td>\n",
       "      <td>134.238910</td>\n",
       "      <td>0</td>\n",
       "    </tr>\n",
       "    <tr>\n",
       "      <th>17897</th>\n",
       "      <td>57.062500</td>\n",
       "      <td>85.797340</td>\n",
       "      <td>1.406391</td>\n",
       "      <td>0.089520</td>\n",
       "      <td>188.306020</td>\n",
       "      <td>64.712562</td>\n",
       "      <td>-1.597527</td>\n",
       "      <td>1.429475</td>\n",
       "      <td>0</td>\n",
       "    </tr>\n",
       "  </tbody>\n",
       "</table>\n",
       "<p>17898 rows × 9 columns</p>\n",
       "</div>"
      ],
      "text/plain": [
       "          IP_Mean      IP_SD   IP_Kurt   IP_Skew  DMSNR_Mean   DMSNR_SD  \\\n",
       "0      140.562500  55.683782 -0.234571 -0.699648    3.199833  19.110426   \n",
       "1      102.507812  58.882430  0.465318 -0.515088    1.677258  14.860146   \n",
       "2      103.015625  39.341649  0.323328  1.051164    3.121237  21.744669   \n",
       "3      136.750000  57.178449 -0.068415 -0.636238    3.642977  20.959280   \n",
       "4       88.726562  40.672225  0.600866  1.123492    1.178930  11.468720   \n",
       "...           ...        ...       ...       ...         ...        ...   \n",
       "17893  136.429688  59.847421 -0.187846 -0.738123    1.296823  12.166062   \n",
       "17894  122.554688  49.485605  0.127978  0.323061   16.409699  44.626893   \n",
       "17895  119.335938  59.935939  0.159363 -0.743025   21.430602  58.872000   \n",
       "17896  114.507812  53.902400  0.201161 -0.024789    1.946488  13.381731   \n",
       "17897   57.062500  85.797340  1.406391  0.089520  188.306020  64.712562   \n",
       "\n",
       "       DMSNR_Kurt  DMSNR_Skew  Pulsar  \n",
       "0        7.975532   74.242225       0  \n",
       "1       10.576487  127.393580       0  \n",
       "2        7.735822   63.171909       0  \n",
       "3        6.896499   53.593661       0  \n",
       "4       14.269573  252.567306       0  \n",
       "...           ...         ...     ...  \n",
       "17893   15.450260  285.931022       0  \n",
       "17894    2.945244    8.297092       0  \n",
       "17895    2.499517    4.595173       0  \n",
       "17896   10.007967  134.238910       0  \n",
       "17897   -1.597527    1.429475       0  \n",
       "\n",
       "[17898 rows x 9 columns]"
      ]
     },
     "metadata": {},
     "output_type": "display_data"
    }
   ],
   "source": [
    "import pandas as pd\n",
    "\n",
    "data = pd.read_csv(\"pulsar.csv\")\n",
    "display(data)\n",
    "X = data.iloc[:,:8] # Predictors: Signal statistics.\n",
    "y = data.iloc[:,8] # Target: pulsar (1) vs. non-pulsar (0).\n",
    "\n",
    "from sklearn.model_selection import StratifiedShuffleSplit\n",
    "\n",
    "# Split.\n",
    "split = StratifiedShuffleSplit(n_splits=1, test_size=1/3, random_state=0)\n",
    "for train_idx, test_idx in split.split(X, y):\n",
    "    X_train, y_train = X.iloc[train_idx], y.iloc[train_idx]\n",
    "    X_test, y_test = X.iloc[test_idx], y.iloc[test_idx]"
   ]
  },
  {
   "cell_type": "markdown",
   "id": "42574fff",
   "metadata": {},
   "source": [
    "For `max_depth` ranging from 1 to 20, fit decision tree classifiers to the training data. Use `random_state=0`. Plot training vs. test accuracy."
   ]
  },
  {
   "cell_type": "code",
   "execution_count": 2,
   "id": "030ceffb",
   "metadata": {},
   "outputs": [],
   "source": [
    "from sklearn.tree import DecisionTreeClassifier\n",
    "from sklearn.metrics import accuracy_score"
   ]
  },
  {
   "cell_type": "code",
   "execution_count": 3,
   "id": "bd469bcf",
   "metadata": {},
   "outputs": [],
   "source": [
    "training_accuracy_score = []\n",
    "for depth in range(1,20):\n",
    "    clf = DecisionTreeClassifier(max_depth=depth,random_state=0)\n",
    "    clf.fit(X_train,y_train)\n",
    "    y_train_pred = clf.predict(X_train)\n",
    "    accuracy = accuracy_score(y_train, y_train_pred)\n",
    "    training_accuracy_score.append(accuracy)"
   ]
  },
  {
   "cell_type": "code",
   "execution_count": 4,
   "id": "e8cfd352",
   "metadata": {},
   "outputs": [],
   "source": [
    "test_accuracy_score = []\n",
    "for depth in range(1,20):\n",
    "    clf = DecisionTreeClassifier(max_depth=depth,random_state=0)\n",
    "    clf.fit(X_train,y_train)\n",
    "    y_pred = clf.predict(X_test)\n",
    "    accuracy = accuracy_score(y_test, y_pred)\n",
    "    test_accuracy_score.append(accuracy)"
   ]
  },
  {
   "cell_type": "code",
   "execution_count": 5,
   "id": "17e364f1",
   "metadata": {
    "scrolled": false
   },
   "outputs": [
    {
     "data": {
      "image/png": "[encoded data removed]",
      "text/plain": [
       "<Figure size 432x288 with 1 Axes>"
      ]
     },
     "metadata": {
      "needs_background": "light"
     },
     "output_type": "display_data"
    }
   ],
   "source": [
    "import matplotlib.pyplot as plt\n",
    "plt.plot(training_accuracy_score,label=\"Training Accuracy Score\")\n",
    "plt.plot(test_accuracy_score,label=\"Test Accuracy Score\")\n",
    "plt.title(\"Training Vs Test Accuracy\")\n",
    "plt.xlabel(\"Depth\")\n",
    "plt.ylabel(\"Accuracy\")\n",
    "plt.legend()\n",
    "plt.show()\n",
    "#plt.plot(training_accuracy_score,test_accuracy_score)"
   ]
  },
  {
   "cell_type": "markdown",
   "id": "46192243",
   "metadata": {},
   "source": [
    "What trend do you observe in the training and test accuracies as `max_depth` increases? Explain the trend."
   ]
  },
  {
   "cell_type": "markdown",
   "id": "86e70b79",
   "metadata": {},
   "source": [
    "### Answer:\n",
    "From the plot abover, we have 2 lines plotted, the blue line represents the training accuracy and the orange line represents the testing accuracy. The training accuracy trend is it increases as the max depth increases, this is beacuse there is no new unseen data feeded to the model and with increase in the max depth more splits happen which leads to overfitting the data, therefore when the training data is applied the model acts accurately as there is no new data . On other hand, the testing accuracy decreases with increase in max depth because the model is overfitting with increase in max depth and is not accurately able to classify the new unseen data. "
   ]
  },
  {
   "cell_type": "markdown",
   "id": "3befd3b4",
   "metadata": {},
   "source": [
    "For `n_estimators` ranging from 1 to 101 with step size 10, fit random forest classifiers to the training data. Use `random_state=0` and `max_depth=3`. Plot training vs. test accuracy."
   ]
  },
  {
   "cell_type": "code",
   "execution_count": 6,
   "id": "c3045ede",
   "metadata": {},
   "outputs": [],
   "source": [
    "from sklearn.ensemble import RandomForestClassifier\n",
    "training_accuracy_score = []\n",
    "n_est=[]\n",
    "for n_estimators in range(1,100,10):\n",
    "    clf = RandomForestClassifier(n_estimators=n_estimators,max_depth=3,random_state=0)\n",
    "    clf.fit(X_train,y_train)\n",
    "    y_train_pred = clf.predict(X_train)\n",
    "    accuracy = accuracy_score(y_train, y_train_pred)\n",
    "    training_accuracy_score.append(accuracy)\n",
    "    n_est.append(n_estimators)\n",
    "\n",
    "test_accuracy_score = []\n",
    "for n_estimators in range(1,100,10):\n",
    "    clf = RandomForestClassifier(n_estimators=n_estimators,max_depth=3,random_state=0)\n",
    "    clf.fit(X_train,y_train)\n",
    "    y_pred = clf.predict(X_test)\n",
    "    accuracy = accuracy_score(y_test, y_pred)\n",
    "    test_accuracy_score.append(accuracy)\n",
    "    \n",
    "    "
   ]
  },
  {
   "cell_type": "code",
   "execution_count": 7,
   "id": "44e34eda",
   "metadata": {},
   "outputs": [
    {
     "data": {
      "text/plain": [
       "<matplotlib.legend.Legend at 0x1d6e5dbcdc0>"
      ]
     },
     "execution_count": 7,
     "metadata": {},
     "output_type": "execute_result"
    },
    {
     "data": {
      "image/png": "[encoded data removed]",
      "text/plain": [
       "<Figure size 432x288 with 1 Axes>"
      ]
     },
     "metadata": {
      "needs_background": "light"
     },
     "output_type": "display_data"
    }
   ],
   "source": [
    "plt.plot(n_est,training_accuracy_score,label=\"Training Accuracy Score\")\n",
    "plt.plot(n_est,test_accuracy_score,label=\"Test Accuracy Score\")\n",
    "plt.title(\"Training Vs Test Accuracy\")\n",
    "plt.xlabel(\"n_estimators\")\n",
    "plt.ylabel(\"Accuracy\")\n",
    "plt.legend()"
   ]
  },
  {
   "cell_type": "markdown",
   "id": "9fa17a62",
   "metadata": {},
   "source": [
    "What trend do you observe in the training and test accuracies as `n_estimators` increases? Explain the trend."
   ]
  },
  {
   "cell_type": "markdown",
   "id": "465c3570",
   "metadata": {},
   "source": [
    "### Answer:\n",
    "We can see from the plot above that as n_estimators increases, both training accuracy and test accuracy improve as well. n_estimators parameter is the number of trees the random forest consist of. The plot's trend is as it is because learning from data is improved as the number of trees increases.It translates to more trees, more prediction, better output aggregation, and more accurate prediction. The test data is unseen, which slightly lowers accuracy, which is why the training accuracy results are considerably better as there is no new data being fed."
   ]
  }
 ],
 "metadata": {
  "kernelspec": {
   "display_name": "Python 3 (ipykernel)",
   "language": "python",
   "name": "python3"
  },
  "language_info": {
   "codemirror_mode": {
    "name": "ipython",
    "version": 3
   },
   "file_extension": ".py",
   "mimetype": "text/x-python",
   "name": "python",
   "nbconvert_exporter": "python",
   "pygments_lexer": "ipython3",
   "version": "3.9.12"
  }
 },
 "nbformat": 4,
 "nbformat_minor": 5
}
