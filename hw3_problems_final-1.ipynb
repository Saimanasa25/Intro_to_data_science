{
 "cells": [
  {
   "cell_type": "markdown",
   "id": "e8e559c0",
   "metadata": {},
   "source": [
    "# Homework 3\n",
    "Investigate how correlation between predictors in a linear model affects the variance of the coefficient estimates.\n",
    "\n",
    "1. Simulate observations followng the linear model $Y = X_{1} + X_{2} + \\epsilon$ where $\\epsilon \\sim N(0, 1)$. Let $\\epsilon$ be independent of $X_{1}$ and $X_{2}$, and let $X_{1}$ and $X_{2}$ be drawn from an $N(0, [[1, \\rho], [\\rho, 1]])$ multivariate normal distribution, where $\\rho$ is the correlation between $X_{1}$ and $X_{2}$. Use `scipy` for simulation.\n",
    "2. Fit a linear model using `sklearn.linear_model.LinearRegression.` Store the fitted $X_{1}$ coefficient.\n",
    "3. Repeat steps 1 and 2 to get multiple estimates of the $X_{1}$ coefficient. Then calculate and store the variance of the estimates.\n",
    "4. Repeat steps 1 to 3 for a variety of values of $\\rho$ in the interval $[-1, 1]$.\n",
    "5. Plot $\\rho$ versus the variance of the estimates.\n",
    "6. State the trend in the plot and explain why it occurs."
   ]
  },
  {
   "cell_type": "code",
   "execution_count": 1,
   "id": "bf117434",
   "metadata": {},
   "outputs": [],
   "source": [
    "#Importing Libraries\n",
    "import numpy as np\n",
    "import matplotlib.pyplot as plt\n",
    "from scipy import stats\n",
    "from sklearn.linear_model import LinearRegression\n"
   ]
  },
  {
   "cell_type": "code",
   "execution_count": 2,
   "id": "5bd07fc2",
   "metadata": {},
   "outputs": [],
   "source": [
    "#question 1\n",
    "#stimulate observations \n",
    "#covariance = [[1,1],[1,1]]\n",
    "#mean = [0,0]\n",
    "X= stats.multivariate_normal.rvs([0,0],[[1,0],[0,1]],50) #multivariate normal distributions\n",
    "X1=X[:,0]\n",
    "X2=X[:,1]\n",
    "e = stats.norm.rvs(X1.size) #normal distributions\n",
    "y = X1 + X2 + e #linear model\n"
   ]
  },
  {
   "cell_type": "code",
   "execution_count": 3,
   "id": "0b8fe393",
   "metadata": {},
   "outputs": [],
   "source": [
    "#Question 2\n",
    "reg = LinearRegression().fit(X, y) #fit linear regression\n",
    "reg_=reg.coef_"
   ]
  },
  {
   "cell_type": "code",
   "execution_count": 4,
   "id": "f29a1305",
   "metadata": {},
   "outputs": [
    {
     "data": {
      "text/plain": [
       "318598072023321.0"
      ]
     },
     "execution_count": 4,
     "metadata": {},
     "output_type": "execute_result"
    }
   ],
   "source": [
    "#Question 3\n",
    "coef=[]\n",
    "for i in range(100): #multiple X1 coefficients\n",
    "    X= stats.multivariate_normal.rvs([0,0],[[1,1],[1,1]],50) #multivariate distribution\n",
    "    X1=X[:,0]\n",
    "    X2=X[:,1]\n",
    "    e =stats.norm.rvs(0,1,X1.size) #normal distributions\n",
    "    y = X1 + X2 + e #linear model\n",
    "    reg = LinearRegression().fit(X, y) #fit linear regression\n",
    "    reg_=reg.coef_\n",
    "    Coef_X1=reg_[0]\n",
    "    coef.append(Coef_X1) #append the X1 coeffients\n",
    "var=np.var(coef) # Calculate Variance\n",
    "var"
   ]
  },
  {
   "cell_type": "code",
   "execution_count": 5,
   "id": "15f1e1bd",
   "metadata": {},
   "outputs": [],
   "source": [
    "#Question 4\n",
    "Var_est=[]\n",
    "pvals=[]\n",
    "for p in np.linspace(-1,1,20)[1:-1]: #different rho values\n",
    "    coef=[]\n",
    "    for i in range(100): #multiple X1 coefficients\n",
    "        X= stats.multivariate_normal.rvs([0,0],[[1,p],[p,1]],50) #multivariate distribution\n",
    "        X1=X[:,0]\n",
    "        X2=X[:,1]\n",
    "        e =stats.norm.rvs(0,1,X1.size) #normal distributions\n",
    "        y = X1 + X2 + e #linear model\n",
    "        reg = LinearRegression().fit(X, y) #fit linear regression\n",
    "        reg_=reg.coef_\n",
    "        Coef_X1=reg_[0]\n",
    "        coef.append(Coef_X1) #append the X1 coeffients\n",
    "    var=np.var(coef) # Calculate Variance\n",
    "    Var_est.append(var) #append the variances\n",
    "    pvals.append(p) #append the rho values"
   ]
  },
  {
   "cell_type": "code",
   "execution_count": 6,
   "id": "9819b126",
   "metadata": {},
   "outputs": [
    {
     "data": {
      "text/plain": [
       "[<matplotlib.lines.Line2D at 0x27228d57850>]"
      ]
     },
     "execution_count": 6,
     "metadata": {},
     "output_type": "execute_result"
    },
    {
     "data": {
      "image/png": "[encoded data removed]",
      "text/plain": [
       "<Figure size 432x288 with 1 Axes>"
      ]
     },
     "metadata": {
      "needs_background": "light"
     },
     "output_type": "display_data"
    }
   ],
   "source": [
    "#Question 5\n",
    "#plot between p and variance\n",
    "\n",
    "plt.plot(pvals,Var_est,'-')\n"
   ]
  },
  {
   "cell_type": "markdown",
   "id": "025a4462",
   "metadata": {},
   "source": [
    "### Explanation:\n",
    "\n",
    "From the above plotted plot we can notice a trend where the variance of estimates decreases with increase in $\\rho$ value till 0 and there after the variance of estimates increases with increase in $\\rho$ values. This leads to the plot to look in U - shaped. \n",
    "\n",
    "The plot occurs in such way because considering the we generate data from multivariate distribution with ([1,$\\rho$],[$\\rho$,1]). So keeping near p=-1 or 1  gives us data from a larger range than keeping p= 0. So the variance in the data should be decreasing with increase in p values till around 0 and increase again.\n",
    "\n",
    "In other words,because high correlation, whether positive or negative yields a wider spread of values while a zero correlation means that the spread of values is smaller which is proportional to variance. As the correlation decreases the variance also decreases which in return gives us a plot in U -shape."
   ]
  }
 ],
 "metadata": {
  "kernelspec": {
   "display_name": "Python 3 (ipykernel)",
   "language": "python",
   "name": "python3"
  },
  "language_info": {
   "codemirror_mode": {
    "name": "ipython",
    "version": 3
   },
   "file_extension": ".py",
   "mimetype": "text/x-python",
   "name": "python",
   "nbconvert_exporter": "python",
   "pygments_lexer": "ipython3",
   "version": "3.9.12"
  }
 },
 "nbformat": 4,
 "nbformat_minor": 5
}
