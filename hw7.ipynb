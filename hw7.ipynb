{
 "cells": [
  {
   "cell_type": "markdown",
   "id": "cf3eb4d1",
   "metadata": {},
   "source": [
    "# HW7\n",
    "We load and split the [USArrests dataset](https://www.rdocumentation.org/packages/datasets/versions/3.6.2/topics/USArrests)."
   ]
  },
  {
   "cell_type": "code",
   "execution_count": 44,
   "id": "977c6e3e",
   "metadata": {},
   "outputs": [],
   "source": [
    "import pandas as pd\n",
    "from sklearn.model_selection import train_test_split\n",
    "from sklearn.decomposition import PCA\n",
    "\n",
    "data = pd.read_csv(\"usarrests.csv\", index_col=0)\n",
    "\n",
    "# Features for use in clustering.\n",
    "X = data[[\"Murder\", \"Assault\", \"UrbanPop\", \"Rape\"]]\n",
    "\n",
    "# For whitening datasets for KMeans clustering.\n",
    "whitener = PCA(whiten=True)\n",
    "\n",
    "# Split into training and validation sets.\n",
    "X_train, X_val = train_test_split(X, random_state=0)\n",
    "\n",
    "# Whiten.\n",
    "X_train = whitener.fit_transform(X_train)\n",
    "X_val = whitener.transform(X_val)\n",
    "\n"
   ]
  },
  {
   "cell_type": "markdown",
   "id": "d9be0b6c",
   "metadata": {},
   "source": [
    "Fit KMeans clusters to the training set for K in [2, 10] using a `random_state` of `0`. Plot the training inertias as a function of K. In a separate figure, plot the validation inertias as a function of K."
   ]
  },
  {
   "cell_type": "code",
   "execution_count": 45,
   "id": "35281f7a",
   "metadata": {},
   "outputs": [],
   "source": [
    "from sklearn.cluster import KMeans\n",
    "\n",
    "inertias_train = []\n",
    "for K in range(2,11):\n",
    "    km=KMeans(n_clusters=K,random_state=0)\n",
    "    km.fit_predict(X_train)\n",
    "    inertias_train.append(km.inertia_)"
   ]
  },
  {
   "cell_type": "code",
   "execution_count": 46,
   "id": "09042b37",
   "metadata": {},
   "outputs": [
    {
     "data": {
      "text/plain": [
       "[115.75646552722685,\n",
       " 93.6033947276861,\n",
       " 76.48088544495889,\n",
       " 59.44876825301906,\n",
       " 52.53445319546332,\n",
       " 44.45429197190435,\n",
       " 38.077707635662975,\n",
       " 32.58946390694302,\n",
       " 29.83748595769012]"
      ]
     },
     "execution_count": 46,
     "metadata": {},
     "output_type": "execute_result"
    }
   ],
   "source": [
    "inertias_train"
   ]
  },
  {
   "cell_type": "code",
   "execution_count": 47,
   "id": "16c39c9c",
   "metadata": {},
   "outputs": [
    {
     "data": {
      "text/plain": [
       "[<matplotlib.lines.Line2D at 0x1ddafc66e80>]"
      ]
     },
     "execution_count": 47,
     "metadata": {},
     "output_type": "execute_result"
    },
    {
     "data": {
      "image/png": "[encoded data removed]",
      "text/plain": [
       "<Figure size 432x288 with 1 Axes>"
      ]
     },
     "metadata": {
      "needs_background": "light"
     },
     "output_type": "display_data"
    }
   ],
   "source": [
    "import matplotlib.pyplot as plt\n",
    "plt.plot(range(2,11),inertias_train)"
   ]
  },
  {
   "cell_type": "code",
   "execution_count": 48,
   "id": "6d8ea88b",
   "metadata": {},
   "outputs": [],
   "source": [
    "from sklearn.cluster import KMeans\n",
    "\n",
    "inertias_train = []\n",
    "inertia_val=[]\n",
    "k=[]\n",
    "for K in range(2,11):\n",
    "    km=KMeans(n_clusters=K,random_state=0).fit(X_train)\n",
    "    val = km.cluster_centers_[km.predict(X_val)]\n",
    "    inertias_train.append(km.inertia_)\n",
    "    inertia_val.append(sum((X_val-val)**2))\n",
    "    k.append(K)\n",
    "    "
   ]
  },
  {
   "cell_type": "code",
   "execution_count": 57,
   "id": "5d81f796",
   "metadata": {},
   "outputs": [],
   "source": [
    "inertia_val_=[]\n",
    "for i in range(0,9):\n",
    "    inertia_val1=inertia_val[i].sum()\n",
    "    inertia_val_.append(inertia_val1)\n"
   ]
  },
  {
   "cell_type": "code",
   "execution_count": 58,
   "id": "aa3e2da6",
   "metadata": {},
   "outputs": [
    {
     "data": {
      "text/plain": [
       "[<matplotlib.lines.Line2D at 0x1ddafe4e670>]"
      ]
     },
     "execution_count": 58,
     "metadata": {},
     "output_type": "execute_result"
    },
    {
     "data": {
      "image/png": "[encoded data removed]",
      "text/plain": [
       "<Figure size 432x288 with 1 Axes>"
      ]
     },
     "metadata": {
      "needs_background": "light"
     },
     "output_type": "display_data"
    }
   ],
   "source": [
    "plt.plot(k,inertia_val_)"
   ]
  },
  {
   "cell_type": "markdown",
   "id": "e8d4abbd",
   "metadata": {},
   "source": [
    "Based on the training plot, what value of K would the elbow method recommend selecting? Explain."
   ]
  },
  {
   "cell_type": "markdown",
   "id": "5be40d5e",
   "metadata": {},
   "source": [
    "### Answer: Based on the training plot, the optimal K value is 5. The optimal K values is 5 because we can observe the point of inflection in curve is by K = 5 which indicates that the underlying model fits best at that point."
   ]
  },
  {
   "cell_type": "markdown",
   "id": "6697a081",
   "metadata": {},
   "source": [
    "Justify the elbow method based on the validation plot."
   ]
  },
  {
   "cell_type": "markdown",
   "id": "90212668",
   "metadata": {},
   "source": [
    "### Answer: The elbow method for validation set gives us a plot with point of inflection in curve which is K = 6. Since the K values of both plots are somewhat close or close to each other, this justifies that the K = 5 from the training set can be an optimal number of clusters. "
   ]
  },
  {
   "cell_type": "code",
   "execution_count": null,
   "id": "ec9796fc",
   "metadata": {},
   "outputs": [],
   "source": []
  }
 ],
 "metadata": {
  "kernelspec": {
   "display_name": "Python 3 (ipykernel)",
   "language": "python",
   "name": "python3"
  },
  "language_info": {
   "codemirror_mode": {
    "name": "ipython",
    "version": 3
   },
   "file_extension": ".py",
   "mimetype": "text/x-python",
   "name": "python",
   "nbconvert_exporter": "python",
   "pygments_lexer": "ipython3",
   "version": "3.9.12"
  }
 },
 "nbformat": 4,
 "nbformat_minor": 5
}
